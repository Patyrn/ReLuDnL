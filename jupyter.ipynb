{
 "cells": [
  {
   "cell_type": "code",
   "execution_count": 9,
   "metadata": {},
   "outputs": [],
   "source": [
    "import copy\n",
    "import time\n",
    "\n",
    "import numpy as np\n",
    "import torch\n",
    "from sklearn import model_selection\n",
    "import matplotlib.pyplot as plt\n",
    "import math\n",
    "import Sampling_Methods\n",
    "\n",
    "from KnapsackSolver import compute_profit_knapsack_single_benchmark, get_opt_params_knapsack\n",
    "from Sampling_Methods import find_transition_intervals, Sampler, EXHAUSTIVE, MID_TRANSITION_POINT_SELECTION, \\\n",
    "    DIVIDE_AND_CONQUER, EDGE_TRANSITION_POINT_SELECTION\n",
    "from Solver import get_optimization_objective_for_samples, compute_objective_value_single_benchmarks\n",
    "from linear_nn import linear_regression\n",
    "from relu_ppo import relu_ppo\n",
    "import applied_tests\n",
    "np.random.seed(0)\n"
   ]
  },
  {
   "cell_type": "code",
   "execution_count": 17,
   "metadata": {},
   "outputs": [
    {
     "name": "stdout",
     "output_type": "stream",
     "text": [
      "e:0 i:0/4000 loss:1.5887641906738281\n",
      "e:1 i:0/4000 loss:0.8223134875297546\n",
      "e:2 i:0/4000 loss:0.6204252243041992\n",
      "e:3 i:0/4000 loss:0.7147856950759888\n",
      "e:4 i:0/4000 loss:0.6106580495834351\n",
      "e:0 i:0/4000 loss:1.3789480924606323\n",
      "e:1 i:0/4000 loss:1.2790515422821045\n",
      "e:2 i:0/4000 loss:0.9253883361816406\n",
      "e:3 i:0/4000 loss:0.8883631825447083\n",
      "e:4 i:0/4000 loss:0.9295905828475952\n",
      "e:5 i:0/4000 loss:0.9167416095733643\n",
      "e:6 i:0/4000 loss:0.586035966873169\n",
      "e:7 i:0/4000 loss:0.8827596306800842\n",
      "e:8 i:0/4000 loss:0.6365388631820679\n",
      "e:9 i:0/4000 loss:0.6935698986053467\n",
      "e:10 i:0/4000 loss:0.7265133857727051\n",
      "e:11 i:0/4000 loss:0.6330640912055969\n",
      "e:12 i:0/4000 loss:0.5461883544921875\n",
      "e:13 i:0/4000 loss:0.5971035361289978\n",
      "e:14 i:0/4000 loss:0.6591071486473083\n",
      "e:15 i:0/4000 loss:0.7528563141822815\n",
      "e:16 i:0/4000 loss:0.930079460144043\n",
      "e:17 i:0/4000 loss:0.7529701590538025\n",
      "e:18 i:0/4000 loss:0.827538251876831\n",
      "e:19 i:0/4000 loss:0.7776552438735962\n"
     ]
    }
   ],
   "source": [
    "benchmark_size = 50\n",
    "benchmark_numbers = 100\n",
    "dataset = applied_tests.init_polynomial_set(benchmark_size, benchmark_numbers)\n",
    "X_train, X_test, y_train, y_test = model_selection.train_test_split(dataset.get('x').T, dataset.get('y').T,\n",
    "                                                                    test_size=0.2, shuffle=True)\n",
    "layer_params_relu = [1, 10, 1]\n",
    "my_relu_regression = relu_ppo(batch_size = 16,\n",
    "                              layer_params=layer_params_relu, max_epoch=5,\n",
    "                              opt_params=get_opt_params_knapsack(capacity=10))\n",
    "my_relu_regression.fit_nn(X_train, y_train)\n",
    "\n",
    "layer_params_linear = [1, 1]\n",
    "my_linear_regression = linear_regression(N=10, layer_params=layer_params_linear, max_epoch=20)\n",
    "my_linear_regression.fit_nn(X_train, y_train)"
   ]
  },
  {
   "cell_type": "code",
   "execution_count": 20,
   "metadata": {},
   "outputs": [],
   "source": [
    "def relu_dnl(self, x, y, weights, benchmark_numbers, benchmark_size, sampling_method=Sampling_Methods.DIVIDE_AND_CONQUER, max_step_size_magnitude=0,\n",
    "                min_step_size_magnitude=-1,\n",
    "                transition_point_selection=Sampling_Methods.MID_TRANSITION_POINT_SELECTION):\n",
    "\n",
    "        dnc_sampler = Sampling_Methods.Sampler(sampling_method=sampling_method,\n",
    "                                               max_step_size_magnitude=max_step_size_magnitude,\n",
    "                                               min_step_size_magnitude=min_step_size_magnitude,\n",
    "                                               transition_point_selection=transition_point_selection)\n",
    "        temp_model = copy.deepcopy(self)\n",
    "\n",
    "        number_of_batches = int(benchmark_numbers / self.batch_size)\n",
    "\n",
    "\n",
    "        for t in range(self.epoch_number):\n",
    "            # UNCOMMENT BELOW FOR RANDOM SHUFFLE BATCHES\n",
    "            # permutations = torch.randperm(number_of_benchmarks).tolist()\n",
    "            # bELOW IS FOR ORDERED BATCHES\n",
    "            permutations = [x for x in range(number_of_batches)]\n",
    "            for i in range(0, number_of_batches, self.batch_size):\n",
    "                indices = [x for y in range(permutations[i], permutations[i] + self.batch_size) for x in\n",
    "                           range(y * benchmark_size, (y + 1) * benchmark_size)]\n",
    "                batch_x, batch_y, batch_weights = x[indices], y[indices], weights[indices]\n",
    "                for benchmark_x, benchmark_y, benchmark_weight in zip(batch_x, batch_y, batch_weights):\n",
    "                    for layer_no in range(2):\n",
    "                        if layer_no == 0:\n",
    "                            current_temp_layer = temp_model.fc1\n",
    "                            current_original_layer = self.fc1\n",
    "\n",
    "\n",
    "\n",
    "                        else:\n",
    "                            current_temp_layer = temp_model.fc2\n",
    "                            current_original_layer = self.fc2\n",
    "\n",
    "                        for param_ind in [(i, j) for i in range(current_original_layer.weight.size()[0]) for j in\n",
    "                                          range(current_original_layer.weight.size()[1])]:\n",
    "\n",
    "                            dnc_points, dnc_intervals, __, dnc_POVS, dnc_TOVS = dnc_sampler.get_transition_points(\n",
    "                                temp_model,\n",
    "                                current_temp_layer,\n",
    "                                benchmark_x,\n",
    "                                benchmark_y, weights,\n",
    "                                param_ind)\n",
    "\n",
    "                            with torch.no_grad():\n",
    "                                current_temp_layer.weight[param_ind] = current_original_layer.weight[param_ind]"
   ]
  },
  {
   "cell_type": "code",
   "execution_count": 23,
   "metadata": {},
   "outputs": [
    {
     "ename": "IndexError",
     "evalue": "index 50 is out of bounds for axis 0 with size 50",
     "output_type": "error",
     "traceback": [
      "\u001b[0;31m---------------------------------------------------------------------------\u001b[0m",
      "\u001b[0;31mIndexError\u001b[0m                                Traceback (most recent call last)",
      "\u001b[0;32m<ipython-input-23-8ea9ad956697>\u001b[0m in \u001b[0;36m<module>\u001b[0;34m\u001b[0m\n\u001b[1;32m      1\u001b[0m \u001b[0mweights\u001b[0m \u001b[0;34m=\u001b[0m \u001b[0mnp\u001b[0m\u001b[0;34m.\u001b[0m\u001b[0marray\u001b[0m\u001b[0;34m(\u001b[0m\u001b[0;34m[\u001b[0m\u001b[0mnp\u001b[0m\u001b[0;34m.\u001b[0m\u001b[0mones\u001b[0m\u001b[0;34m(\u001b[0m\u001b[0mbenchmark_size\u001b[0m\u001b[0;34m)\u001b[0m \u001b[0;32mfor\u001b[0m \u001b[0mi\u001b[0m \u001b[0;32min\u001b[0m \u001b[0mrange\u001b[0m\u001b[0;34m(\u001b[0m\u001b[0mbenchmark_numbers\u001b[0m\u001b[0;34m)\u001b[0m\u001b[0;34m]\u001b[0m\u001b[0;34m)\u001b[0m\u001b[0;34m.\u001b[0m\u001b[0mT\u001b[0m\u001b[0;34m\u001b[0m\u001b[0;34m\u001b[0m\u001b[0m\n\u001b[0;32m----> 2\u001b[0;31m \u001b[0mrelu_dnl\u001b[0m\u001b[0;34m(\u001b[0m\u001b[0mmy_relu_regression\u001b[0m\u001b[0;34m,\u001b[0m \u001b[0mX_train\u001b[0m\u001b[0;34m,\u001b[0m \u001b[0my_train\u001b[0m\u001b[0;34m,\u001b[0m \u001b[0mweights\u001b[0m\u001b[0;34m,\u001b[0m \u001b[0mbenchmark_numbers\u001b[0m \u001b[0;34m=\u001b[0m \u001b[0mbenchmark_numbers\u001b[0m\u001b[0;34m,\u001b[0m \u001b[0mbenchmark_size\u001b[0m \u001b[0;34m=\u001b[0m \u001b[0mbenchmark_size\u001b[0m\u001b[0;34m)\u001b[0m\u001b[0;34m\u001b[0m\u001b[0;34m\u001b[0m\u001b[0m\n\u001b[0m",
      "\u001b[0;32m<ipython-input-20-6ff8dea60ebd>\u001b[0m in \u001b[0;36mrelu_dnl\u001b[0;34m(self, x, y, weights, benchmark_numbers, benchmark_size, sampling_method, max_step_size_magnitude, min_step_size_magnitude, transition_point_selection)\u001b[0m\n\u001b[1;32m     20\u001b[0m                 indices = [x for y in range(permutations[i], permutations[i] + self.batch_size) for x in\n\u001b[1;32m     21\u001b[0m                            range(y * benchmark_size, (y + 1) * benchmark_size)]\n\u001b[0;32m---> 22\u001b[0;31m                 \u001b[0mbatch_x\u001b[0m\u001b[0;34m,\u001b[0m \u001b[0mbatch_y\u001b[0m\u001b[0;34m,\u001b[0m \u001b[0mbatch_weights\u001b[0m \u001b[0;34m=\u001b[0m \u001b[0mx\u001b[0m\u001b[0;34m[\u001b[0m\u001b[0mindices\u001b[0m\u001b[0;34m]\u001b[0m\u001b[0;34m,\u001b[0m \u001b[0my\u001b[0m\u001b[0;34m[\u001b[0m\u001b[0mindices\u001b[0m\u001b[0;34m]\u001b[0m\u001b[0;34m,\u001b[0m \u001b[0mweights\u001b[0m\u001b[0;34m[\u001b[0m\u001b[0mindices\u001b[0m\u001b[0;34m]\u001b[0m\u001b[0;34m\u001b[0m\u001b[0;34m\u001b[0m\u001b[0m\n\u001b[0m\u001b[1;32m     23\u001b[0m                 \u001b[0;32mfor\u001b[0m \u001b[0mbenchmark_x\u001b[0m\u001b[0;34m,\u001b[0m \u001b[0mbenchmark_y\u001b[0m\u001b[0;34m,\u001b[0m \u001b[0mbenchmark_weight\u001b[0m \u001b[0;32min\u001b[0m \u001b[0mzip\u001b[0m\u001b[0;34m(\u001b[0m\u001b[0mbatch_x\u001b[0m\u001b[0;34m,\u001b[0m \u001b[0mbatch_y\u001b[0m\u001b[0;34m,\u001b[0m \u001b[0mbatch_weights\u001b[0m\u001b[0;34m)\u001b[0m\u001b[0;34m:\u001b[0m\u001b[0;34m\u001b[0m\u001b[0;34m\u001b[0m\u001b[0m\n\u001b[1;32m     24\u001b[0m                     \u001b[0;32mfor\u001b[0m \u001b[0mlayer_no\u001b[0m \u001b[0;32min\u001b[0m \u001b[0mrange\u001b[0m\u001b[0;34m(\u001b[0m\u001b[0;36m2\u001b[0m\u001b[0;34m)\u001b[0m\u001b[0;34m:\u001b[0m\u001b[0;34m\u001b[0m\u001b[0;34m\u001b[0m\u001b[0m\n",
      "\u001b[0;31mIndexError\u001b[0m: index 50 is out of bounds for axis 0 with size 50"
     ]
    }
   ],
   "source": [
    "\n",
    "weights = np.array([np.ones(benchmark_size) for i in range(benchmark_numbers)]).T\n",
    "relu_dnl(my_relu_regression, X_train, y_train, weights, benchmark_numbers = benchmark_numbers, benchmark_size = benchmark_size)\n"
   ]
  },
  {
   "cell_type": "code",
   "execution_count": null,
   "metadata": {},
   "outputs": [],
   "source": []
  }
 ],
 "metadata": {
  "kernelspec": {
   "display_name": "Python 3",
   "language": "python",
   "name": "python3"
  },
  "language_info": {
   "codemirror_mode": {
    "name": "ipython",
    "version": 3
   },
   "file_extension": ".py",
   "mimetype": "text/x-python",
   "name": "python",
   "nbconvert_exporter": "python",
   "pygments_lexer": "ipython3",
   "version": "3.7.4"
  }
 },
 "nbformat": 4,
 "nbformat_minor": 4
}
